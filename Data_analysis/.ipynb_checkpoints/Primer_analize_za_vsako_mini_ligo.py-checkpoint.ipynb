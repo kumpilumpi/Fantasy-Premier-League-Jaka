{
 "cells": [
  {
   "cell_type": "markdown",
   "metadata": {},
   "source": [
    " # Primer analize mini lige"
   ]
  },
  {
   "cell_type": "markdown",
   "metadata": {},
   "source": [
    " ## Uvoz stvari\n",
    "Rad bi, da se bi lahko uvozilo samo s podanim minilig_id vse potrebne stvari.\n",
    "\n",
    "Kaj bom rabil:\n",
    "1. Neodvisno od mini lige:\n",
    "- Vaastav/data/2020-21/ *Players_idlist* -> Samo seznam idijev igralcev_f\n",
    "\n",
    "2. Za dano ligo\n",
    "- Data_analysis/league_<league_id>/ *csv_mini_l_players<league_id>.csv*\n",
    "\n",
    "2.1. Za vsakega igralca v dani ligi -> Data_analysis/league_<league_id>/team_<team_id>/\n",
    "- chips -> Uporabljeni bonusi\n",
    "- gws -> točke v Gw, bank, bench, ...\n",
    "- picks_< gw> -> ekipa za vsak GW\n",
    "- transfers\n"
   ]
  },
  {
   "cell_type": "code",
   "execution_count": null,
   "metadata": {},
   "outputs": [],
   "source": [
    "#IMPORT\n",
    "import pandas as pd\n",
    "import numpy as py\n",
    "import os.path\n",
    "\n",
    "#PODATKI\n",
    "\n",
    "#Uporaba slovarjev za dinamično spreminjanje spremenljivk, ker bo treba veliko uvažat in se na njih sklicevat\n",
    "seznam_id =[]\n",
    "\n",
    "chips = {} # Naj bi zgledal \n",
    "\n",
    "pot_under = os.path.join('league_746814',)\n",
    "pot_clear = os.path.join(\"FPL-vaastav\", \"data\", \"2020-21\", \"cleaned_players.csv\")\n",
    "\n",
    "df_under = pd.read_csv(pot_under)"
   ]
  },
  {
   "cell_type": "markdown",
   "metadata": {},
   "source": [
    "## Točke na gw določenega igralca s povprečjem lige na gw -> graf, da bi lahko igralca dodal sam"
   ]
  },
  {
   "cell_type": "markdown",
   "metadata": {},
   "source": [
    "## Katere dane bonuse je kdo porabil"
   ]
  },
  {
   "cell_type": "markdown",
   "metadata": {},
   "source": [
    "## Najbolj popularni v ligi na GW (zadnjih 5 Gw) mogoče na sezono? :\n",
    "- Kapetan\n",
    "- Transfer in/out player\n",
    "- Transfers made\n",
    "- igralci (po pozicijah)\n",
    "- Points on bench (GWs.csv)"
   ]
  },
  {
   "cell_type": "markdown",
   "metadata": {},
   "source": [
    "## Kapetan "
   ]
  },
  {
   "cell_type": "code",
   "execution_count": null,
   "metadata": {},
   "outputs": [],
   "source": []
  }
 ],
 "metadata": {
  "kernelspec": {
   "display_name": "Python 3",
   "language": "python",
   "name": "python3"
  },
  "language_info": {
   "codemirror_mode": {
    "name": "ipython",
    "version": 3
   },
   "file_extension": ".py",
   "mimetype": "text/x-python",
   "name": "python",
   "nbconvert_exporter": "python",
   "pygments_lexer": "ipython3",
   "version": "3.7.3"
  }
 },
 "nbformat": 4,
 "nbformat_minor": 4
}
